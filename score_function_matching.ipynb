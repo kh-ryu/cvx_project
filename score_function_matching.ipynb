{
 "cells": [
  {
   "cell_type": "markdown",
   "metadata": {},
   "source": [
    "# How to solve equation 4"
   ]
  },
  {
   "cell_type": "code",
   "execution_count": 1,
   "metadata": {},
   "outputs": [],
   "source": [
    "import numpy as np\n",
    "import cvxpy as cp\n",
    "import matplotlib.pyplot as plt"
   ]
  },
  {
   "cell_type": "code",
   "execution_count": 2,
   "metadata": {},
   "outputs": [],
   "source": [
    "# Sample x data from Gaussian distribution\n",
    "np.random.seed(0)\n",
    "n = 100\n",
    "\n",
    "x = np.random.randn(n)"
   ]
  },
  {
   "cell_type": "code",
   "execution_count": 3,
   "metadata": {},
   "outputs": [],
   "source": [
    "def generate_matrix_A(x: np.ndarray) -> list[np.ndarray, np.ndarray, np.ndarray]:\n",
    "    n = x.shape[0]\n",
    "    A_1 = np.zeros((n, n))\n",
    "    A_2 = np.zeros((n, n))\n",
    "\n",
    "    for i in range(n):\n",
    "        for j in range(n):\n",
    "            A_1[i, j] = np.maximum(0, x[i] - x[j])\n",
    "            A_2[i, j] = np.maximum(0, x[j] - x[i])\n",
    "\n",
    "    bar_A_1 = (np.eye(n) - np.ones((n, n)) / n) @ A_1\n",
    "    bar_A_2 = (np.eye(n) - np.ones((n, n)) / n) @ A_2\n",
    "\n",
    "    A = np.concatenate([bar_A_1, bar_A_1, bar_A_2, bar_A_2], axis=1)\n",
    "\n",
    "    return A, A_1, A_2\n",
    "\n",
    "A, A_1, A_2 = generate_matrix_A(x)"
   ]
  },
  {
   "cell_type": "code",
   "execution_count": 4,
   "metadata": {},
   "outputs": [],
   "source": [
    "def generate_vector_b(x: np.ndarray) -> np.ndarray:\n",
    "    n = x.shape[0]\n",
    "\n",
    "    C_1 = np.zeros((n, n))\n",
    "    C_2 = np.zeros((n, n))\n",
    "    C_3 = np.zeros((n, n))\n",
    "    C_4 = np.zeros((n, n))\n",
    "\n",
    "    for i in range(n):\n",
    "        for j in range(n):\n",
    "            C_1[i, j] = np.where(x[i] - x[j] >= 0, 1, 0)\n",
    "            C_2[i, j] = np.where(x[i] - x[j] > 0, 1, 0)\n",
    "            C_3[i, j] = np.where(-x[i] + x[j] >= 0, 1, 0)\n",
    "            C_4[i, j] = np.where(-x[i] + x[j] > 0, 1, 0)\n",
    "\n",
    "    b = np.concatenate([np.ones(n).T @ C_1, np.ones(n).T @ C_2, -np.ones(n).T @ C_3, -np.ones(n).T @ C_4])\n",
    "    return b\n",
    "\n",
    "b = generate_vector_b(x)"
   ]
  },
  {
   "cell_type": "markdown",
   "metadata": {},
   "source": [
    "## Solve the convex problem in Theorem 3.1\n",
    "\n",
    "$min_y 0.5* ||Ay||^2_2 + b^Ty + \\beta ||y||_1$"
   ]
  },
  {
   "cell_type": "code",
   "execution_count": 5,
   "metadata": {},
   "outputs": [
    {
     "name": "stdout",
     "output_type": "stream",
     "text": [
      "===============================================================================\n",
      "                                     CVXPY                                     \n",
      "                                     v1.5.3                                    \n",
      "===============================================================================\n",
      "(CVXPY) Dec 11 12:59:58 PM: Your problem has 400 variables, 0 constraints, and 0 parameters.\n",
      "(CVXPY) Dec 11 12:59:58 PM: It is compliant with the following grammars: DCP, DQCP\n",
      "(CVXPY) Dec 11 12:59:58 PM: (If you need to solve this problem multiple times, but with different data, consider using parameters.)\n",
      "(CVXPY) Dec 11 12:59:58 PM: CVXPY will first compile your problem; then, it will invoke a numerical solver to obtain a solution.\n",
      "(CVXPY) Dec 11 12:59:58 PM: Your problem is compiled with the CPP canonicalization backend.\n",
      "-------------------------------------------------------------------------------\n",
      "                                  Compilation                                  \n",
      "-------------------------------------------------------------------------------\n",
      "(CVXPY) Dec 11 12:59:58 PM: Compiling problem (target solver=CLARABEL).\n",
      "(CVXPY) Dec 11 12:59:58 PM: Reduction chain: Dcp2Cone -> CvxAttr2Constr -> ConeMatrixStuffing -> CLARABEL\n",
      "(CVXPY) Dec 11 12:59:58 PM: Applying reduction Dcp2Cone\n",
      "(CVXPY) Dec 11 12:59:58 PM: Applying reduction CvxAttr2Constr\n",
      "(CVXPY) Dec 11 12:59:58 PM: Applying reduction ConeMatrixStuffing\n",
      "(CVXPY) Dec 11 12:59:58 PM: Applying reduction CLARABEL\n",
      "(CVXPY) Dec 11 12:59:58 PM: Finished problem compilation (took 1.893e-02 seconds).\n",
      "-------------------------------------------------------------------------------\n",
      "                                Numerical solver                               \n",
      "-------------------------------------------------------------------------------\n",
      "(CVXPY) Dec 11 12:59:58 PM: Invoking solver CLARABEL  to obtain a solution.\n",
      "-------------------------------------------------------------\n",
      "           Clarabel.rs v0.9.0  -  Clever Acronym                \n",
      "\n",
      "                   (c) Paul Goulart                          \n",
      "                University of Oxford, 2022                   \n",
      "-------------------------------------------------------------\n",
      "\n",
      "problem:\n",
      "  variables     = 801\n",
      "  constraints   = 901\n",
      "  nnz(P)        = 1\n",
      "  nnz(A)        = 41201\n",
      "  cones (total) = 2\n",
      "    : Nonnegative = 1,  numel = 800\n",
      "    : SecondOrder = 1,  numel = 101\n",
      "\n",
      "settings:\n",
      "  linear algebra: direct / qdldl, precision: 64 bit\n",
      "  max iter = 200, time limit = Inf,  max step = 0.990\n",
      "  tol_feas = 1.0e-8, tol_gap_abs = 1.0e-8, tol_gap_rel = 1.0e-8,\n",
      "  static reg : on, ϵ1 = 1.0e-8, ϵ2 = 4.9e-32\n",
      "  dynamic reg: on, ϵ = 1.0e-13, δ = 2.0e-7\n",
      "  iter refine: on, reltol = 1.0e-13, abstol = 1.0e-12,\n",
      "               max iter = 10, stop ratio = 5.0\n",
      "  equilibrate: on, min_scale = 1.0e-4, max_scale = 1.0e4\n",
      "               max iter = 10\n",
      "\n",
      "iter    pcost        dcost       gap       pres      dres      k/t        μ       step      \n",
      "---------------------------------------------------------------------------------------------\n",
      "  0  -8.1830e+00  -0.0000e+00  8.18e+00  9.96e-01  3.41e-01  1.00e+00  1.27e+00   ------   \n",
      "  1  +9.1712e+00  -1.0818e-03  9.17e+00  7.28e-01  6.76e-02  2.00e-03  1.01e+00  5.39e-01  \n",
      "  2  +2.4997e+03  -1.6593e+03  2.51e+00  6.64e-01  9.91e-01  1.10e+00  9.98e-01  5.59e-02  \n",
      "  3  +7.9713e+02  -2.0521e+01  3.98e+01  2.66e-01  2.98e-01  3.19e+01  4.88e-01  9.90e-01  \n",
      "  4  +5.3720e+02  -6.6192e+00  8.22e+01  8.89e-02  7.34e-02  1.60e-01  1.80e-01  6.67e-01  \n",
      "  5  -1.8601e+01  -4.5704e+01  1.46e+00  4.02e-02  1.45e-02  1.47e+00  1.39e-01  7.77e-01  \n",
      "  6  -2.0587e+01  -5.0658e+01  1.46e+00  3.01e-02  1.51e-02  1.66e+00  1.34e-01  1.46e-01  \n",
      "  7  -8.4650e+01  -9.3343e+01  1.03e-01  5.72e-03  5.55e-03  1.06e+00  4.57e-02  7.83e-01  \n",
      "  8  -8.5413e+01  -9.9740e+01  1.68e-01  4.35e-03  5.52e-03  1.24e+00  3.68e-02  4.48e-01  \n",
      "  9  -2.4094e+02  -2.4108e+02  5.88e-04  1.03e-03  2.03e-03  2.02e+00  1.16e-02  7.35e-01  \n",
      " 10  -2.6167e+02  -2.5975e+02  7.39e-03  5.63e-04  1.27e-03  2.16e+00  5.87e-03  8.14e-01  \n",
      " 11  -5.8049e+02  -1.1457e+03  9.74e-01  1.22e-04  3.00e-04  1.97e+00  1.52e-03  8.43e-01  \n",
      " 12  -4.1971e+02  -1.1242e+03  1.68e+00  1.34e-04  3.42e-04  2.23e+00  1.34e-03  3.75e-01  \n",
      " 13  -1.5131e+03  -2.3183e+03  5.32e-01  4.36e-05  1.18e-04  1.99e+00  4.95e-04  7.29e-01  \n",
      " 14  -1.7232e+03  -2.4887e+03  4.44e-01  3.74e-05  1.01e-04  1.24e+00  4.02e-04  4.38e-01  \n",
      " 15  -1.5472e+03  -2.3914e+03  5.46e-01  2.93e-05  8.22e-05  1.22e+00  2.91e-04  5.66e-01  \n",
      " 16  -3.1994e+03  -4.2482e+03  3.28e-01  1.27e-05  3.55e-05  2.67e-01  1.25e-04  9.72e-01  \n",
      " 17  -3.2115e+03  -4.3869e+03  3.66e-01  8.02e-06  2.28e-05  3.64e-01  8.64e-05  6.38e-01  \n",
      " 18  -6.2450e+03  -8.2203e+03  3.16e-01  2.86e-06  8.17e-06  3.78e-01  3.64e-05  6.52e-01  \n",
      " 19  -5.0901e+03  -7.6638e+03  5.06e-01  1.36e-06  3.97e-06  7.48e-01  2.48e-05  7.31e-01  \n",
      " 20  -9.1322e+03  -1.1726e+04  2.84e-01  4.48e-07  1.31e-06  9.50e-01  9.60e-06  9.90e-01  \n",
      " 21  -1.7336e+04  -2.2555e+04  3.01e-01  2.16e-07  6.29e-07  8.37e-01  4.53e-06  8.50e-01  \n",
      " 22  -2.4210e+04  -2.9723e+04  2.28e-01  9.84e-08  2.88e-07  1.19e+00  2.22e-06  7.28e-01  \n",
      " 23  -5.1096e+04  -7.0039e+04  3.71e-01  2.27e-08  6.64e-08  8.34e-01  5.89e-07  9.70e-01  \n",
      " 24  -8.3129e+04  -8.9899e+04  8.14e-02  4.11e-09  1.20e-08  3.09e-01  1.25e-07  9.90e-01  \n",
      " 25  -9.5137e+04  -9.6352e+04  1.28e-02  5.76e-10  1.69e-09  5.07e-02  1.86e-08  8.83e-01  \n",
      " 26  -9.6447e+04  -9.6978e+04  5.51e-03  2.50e-10  7.30e-10  2.27e-02  7.98e-09  7.44e-01  \n",
      " 27  -9.6955e+04  -9.7218e+04  2.71e-03  1.23e-10  3.61e-10  1.14e-02  3.93e-09  7.03e-01  \n",
      " 28  -9.7326e+04  -9.7409e+04  8.51e-04  3.87e-11  1.13e-10  3.62e-03  1.22e-09  9.39e-01  \n",
      " 29  -9.7476e+04  -9.7485e+04  9.68e-05  4.39e-12  1.28e-11  4.11e-04  1.39e-10  8.98e-01  \n",
      " 30  -9.7494e+04  -9.7494e+04  4.27e-06  1.94e-13  5.66e-13  1.81e-05  6.11e-12  9.56e-01  \n",
      " 31  -9.7495e+04  -9.7495e+04  2.79e-07  5.72e-12  1.79e-13  1.19e-06  3.99e-13  9.36e-01  \n",
      " 32  -9.7495e+04  -9.7495e+04  5.75e-09  2.33e-10  7.76e-14  2.45e-08  8.23e-15  9.87e-01  \n",
      "---------------------------------------------------------------------------------------------\n",
      "Terminated with status = Solved\n",
      "solve time = 116.547371ms\n",
      "-------------------------------------------------------------------------------\n",
      "                                    Summary                                    \n",
      "-------------------------------------------------------------------------------\n",
      "(CVXPY) Dec 11 12:59:58 PM: Problem status: optimal\n",
      "(CVXPY) Dec 11 12:59:58 PM: Optimal value: -9.749e+04\n",
      "(CVXPY) Dec 11 12:59:58 PM: Compilation took 1.893e-02 seconds\n",
      "(CVXPY) Dec 11 12:59:58 PM: Solver (including time spent in interface) took 1.239e-01 seconds\n"
     ]
    }
   ],
   "source": [
    "y = cp.Variable(4 * n)\n",
    "beta = 1\n",
    "\n",
    "score_matching = 0.5*cp.norm2(A@y)**2 + b.T@y + beta*cp.norm1(y)\n",
    "objective = cp.Minimize(score_matching)\n",
    "\n",
    "# Solve the optimization problem\n",
    "prob = cp.Problem(objective)\n",
    "result = prob.solve(verbose=True)\n",
    "y_star = y.value"
   ]
  },
  {
   "cell_type": "code",
   "execution_count": 7,
   "metadata": {},
   "outputs": [
    {
     "name": "stdout",
     "output_type": "stream",
     "text": [
      "(400,) (400,) (400,) 1315.2539879825122\n"
     ]
    }
   ],
   "source": [
    "# Reconstruct weights\n",
    "def reconstruct_weights(y: np.ndarray, x: np.ndarray, A_1: np.ndarray, A_2: np.ndarray, epsilon: np.float32 = 1e-6) -> list[np.ndarray, np.ndarray, np.ndarray, np.float32]:\n",
    "    n = x.shape[0]\n",
    "\n",
    "    w_star = np.zeros(4*n)\n",
    "    for j in range(4*n):\n",
    "        if j < 2*n:\n",
    "            w_star[j] = np.sqrt(np.abs(y[j]))\n",
    "        else:\n",
    "            w_star[j] = -np.sqrt(np.abs(y[j]))\n",
    "\n",
    "    alpha_star = np.sqrt(np.abs(y))\n",
    "    b_star = np.zeros(4*n)\n",
    "    for i in range(4*n):\n",
    "        if i < n:\n",
    "            b_star[i] = -np.sqrt(np.abs(y[i])) * x[i]\n",
    "        elif i < 2*n:\n",
    "            b_star[i] = -np.sqrt(np.abs(y[i])) * (x[i-n] + epsilon)\n",
    "        elif i < 3*n:\n",
    "            b_star[i] = np.sqrt(np.abs(y[i])) * x[i-2*n]\n",
    "        else:\n",
    "            b_star[i] = np.sqrt(np.abs(y[i])) * (x[i-3*n] - epsilon)\n",
    "\n",
    "    b_0_star = -1/n * np.ones(n).T @ (np.concatenate([A_1, A_1, A_2, A_2], axis=1) @ y)\n",
    "    return w_star, alpha_star, b_star, b_0_star\n",
    "\n",
    "w_star, alpha_star, b_star, b_0_star = reconstruct_weights(y_star, x, A_1, A_2)\n",
    "print(w_star.shape, alpha_star.shape, b_star.shape, b_0_star)"
   ]
  },
  {
   "cell_type": "code",
   "execution_count": null,
   "metadata": {},
   "outputs": [],
   "source": [
    "# construct neural network\n",
    "def NN(x: np.ndarray) -> np.ndarray:\n",
    "    n = x.shape[0]\n",
    "\n",
    "    h = alpha_star.T @ np.maximum(0, w_star.T @ x + b_star) + b_0_star\n",
    "    return h"
   ]
  }
 ],
 "metadata": {
  "kernelspec": {
   "display_name": "convex",
   "language": "python",
   "name": "python3"
  },
  "language_info": {
   "codemirror_mode": {
    "name": "ipython",
    "version": 3
   },
   "file_extension": ".py",
   "mimetype": "text/x-python",
   "name": "python",
   "nbconvert_exporter": "python",
   "pygments_lexer": "ipython3",
   "version": "3.12.7"
  }
 },
 "nbformat": 4,
 "nbformat_minor": 2
}
