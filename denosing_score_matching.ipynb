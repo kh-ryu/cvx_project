{
 "cells": [
  {
   "cell_type": "code",
   "execution_count": 12,
   "metadata": {},
   "outputs": [],
   "source": [
    "import numpy as np\n",
    "import cvxpy as cp\n",
    "import matplotlib.pyplot as plt\n",
    "import math\n",
    "import itertools"
   ]
  },
  {
   "cell_type": "markdown",
   "metadata": {},
   "source": [
    "## Multivariable"
   ]
  },
  {
   "cell_type": "code",
   "execution_count": null,
   "metadata": {},
   "outputs": [],
   "source": [
    "# Generate 100 2d random points\n",
    "np.random.seed(0)\n",
    "\n",
    "N = 100  # number of data samples\n",
    "D = 2   # dimensions of data\n",
    "C = math.comb(N, D-1)  # number of combinations of N choose D-1\n",
    "X = np.random.multivariate_normal(mean=np.zeros(D), cov=np.eye(D), size=N)"
   ]
  },
  {
   "cell_type": "code",
   "execution_count": null,
   "metadata": {},
   "outputs": [
    {
     "name": "stdout",
     "output_type": "stream",
     "text": [
      "(100, 100)\n"
     ]
    }
   ],
   "source": [
    "# find K matrix from the given data, see Theorem F.2\n",
    "def find_K(X: np.ndarray) -> np.ndarray:\n",
    "    K = np.zeros((N, C))\n",
    "    row_idx = np.arange(N)\n",
    "\n",
    "    # Generate possible combinations of d-1 elements from n elements\n",
    "    idx_combinations = list(itertools.combinations(row_idx, D-1))\n",
    "\n",
    "    for i in range(N):\n",
    "        x_i = X[i]\n",
    "        for j in range(C):\n",
    "            x_j = X[idx_combinations[j]]\n",
    "            \n",
    "            # Compute outer product of every row in x_j and take L1 norm\n",
    "            denominator = np.linalg.norm(x_j, ord=1)\n",
    "\n",
    "            numerator = np.linalg.det(np.outer(x_i, x_j))\n",
    "            numerator = np.maximum(numerator, 0)\n",
    "\n",
    "            K[i, j] = numerator / denominator\n",
    "\n",
    "    return K\n",
    "\n",
    "K = find_K(X)\n",
    "print(K.shape)"
   ]
  },
  {
   "cell_type": "code",
   "execution_count": null,
   "metadata": {},
   "outputs": [],
   "source": [
    "# Solve Eq 33\n",
    "# L is label matrix\n",
    "epsilon = 0.1\n",
    "L = np.random.multivariate_normal(mean=np.zeros(D), cov=epsilon*np.eye(D), size=N)\n",
    "L = L / epsilon\n",
    "\n",
    "reg_lambda = 1\n",
    "Z = cp.Variable((C, N))\n",
    "\n",
    "# Define the optimization problem\n",
    "regularization_term = reg_lambda * cp.sum([cp.norm(Z[:, i], 2) for i in range(N)])\n",
    "objective = cp.Minimize(cp.norm(K.T @ Z - L, 'fro')**2 + regularization_term)\n",
    "\n",
    "# Solve the optimization problem\n",
    "problem = cp.Problem(objective)\n",
    "problem.solve()\n",
    "\n",
    "# Extract the optimal value and optimal Z\n",
    "optimal_value = problem.value\n",
    "optimal_Z = Z.value"
   ]
  },
  {
   "cell_type": "code",
   "execution_count": null,
   "metadata": {},
   "outputs": [],
   "source": [
    "# Achieve NN\n",
    "# They fucked up the notation in Eq 34..., \n",
    "# We should look Eq 48 of arxiv.org/pdf/2309.16512 \n",
    "# I'm interpreting Z_j as the j-th row of Z, and x_i as x, which is function input\n",
    "def NN(x: np.ndarray) -> np.ndarray:\n",
    "    output = np.zeros(D)\n",
    "    idx_combinations = list(itertools.combinations(np.arange(N), D-1))\n",
    "    for j in range(C):\n",
    "        Z_j = optimal_Z[j]\n",
    "        x_j = X[idx_combinations[j]]\n",
    "\n",
    "        numerator = np.linalg.det(np.outer(x, x_j))\n",
    "        numerator = np.maximum(numerator, 0)\n",
    "\n",
    "        denominator = np.linalg.norm(x_j, ord=1)\n",
    "\n",
    "        output += Z_j * (numerator / denominator)\n",
    "\n",
    "    return output\n"
   ]
  }
 ],
 "metadata": {
  "kernelspec": {
   "display_name": "convex",
   "language": "python",
   "name": "python3"
  },
  "language_info": {
   "codemirror_mode": {
    "name": "ipython",
    "version": 3
   },
   "file_extension": ".py",
   "mimetype": "text/x-python",
   "name": "python",
   "nbconvert_exporter": "python",
   "pygments_lexer": "ipython3",
   "version": "3.12.7"
  }
 },
 "nbformat": 4,
 "nbformat_minor": 2
}
