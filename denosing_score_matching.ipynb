{
 "cells": [
  {
   "cell_type": "code",
   "execution_count": 12,
   "metadata": {},
   "outputs": [],
   "source": [
    "import numpy as np\n",
    "import cvxpy as cp\n",
    "import matplotlib.pyplot as plt\n",
    "import math\n",
    "import itertools"
   ]
  },
  {
   "cell_type": "markdown",
   "metadata": {},
   "source": [
    "## Multivariable"
   ]
  },
  {
   "cell_type": "code",
   "execution_count": 13,
   "metadata": {},
   "outputs": [],
   "source": [
    "# Generate 100 2d random points\n",
    "np.random.seed(0)\n",
    "n = 100\n",
    "d = 2\n",
    "X = np.random.multivariate_normal(mean=np.zeros(d), cov=np.eye(d), size=n)"
   ]
  },
  {
   "cell_type": "code",
   "execution_count": 14,
   "metadata": {},
   "outputs": [],
   "source": [
    "# This is result from chatgpt. Needed to be verified\n",
    "def wedge_product(vectors):\n",
    "    \"\"\"\n",
    "    Compute the wedge product of multiple d-dimensional vectors.\n",
    "    \n",
    "    Args:\n",
    "        vectors (list of np.array): List of k d-dimensional vectors.\n",
    "    \n",
    "    Returns:\n",
    "        float: Magnitude of the wedge product.\n",
    "    \"\"\"\n",
    "    # Stack vectors into a matrix\n",
    "    M = np.stack(vectors, axis=0)  # k x d matrix\n",
    "    \n",
    "    # Check dimensions\n",
    "    k, d = M.shape\n",
    "    if k > d:\n",
    "        raise ValueError(\"Cannot compute wedge product: more vectors than dimensions.\")\n",
    "    \n",
    "    # Compute the Gram matrix\n",
    "    G = np.dot(M, M.T)  # k x k Gram matrix\n",
    "    \n",
    "    # Compute the volume (magnitude of the wedge product)\n",
    "    volume = np.sqrt(np.linalg.det(G))\n",
    "    return volume"
   ]
  },
  {
   "cell_type": "code",
   "execution_count": 15,
   "metadata": {},
   "outputs": [
    {
     "name": "stdout",
     "output_type": "stream",
     "text": [
      "(100, 100)\n"
     ]
    }
   ],
   "source": [
    "# find K matrix from the given data\n",
    "def find_K(X: np.ndarray) -> np.ndarray:\n",
    "    n, d = X.shape\n",
    "    c = math.comb(n, d-1)\n",
    "\n",
    "    K = np.zeros((n, c))\n",
    "    row_idx = np.arange(n)\n",
    "\n",
    "    # Generate possible combinations of d-1 elements from n elements\n",
    "    idx_combinations = list(itertools.combinations(row_idx, d-1))\n",
    "\n",
    "    for i in range(n):\n",
    "        x_i = X[i]\n",
    "        for j in range(c):\n",
    "            x_j = X[idx_combinations[j]]\n",
    "            \n",
    "            # Compute outer product of every row in x_j and take L1 norm\n",
    "            denominator = np.linalg.norm(x_j, ord=1)\n",
    "\n",
    "            numerator = np.linalg.det(np.outer(x_i, x_j))\n",
    "            numerator = np.maximum(numerator, 0)\n",
    "\n",
    "            K[i, j] = numerator / denominator\n",
    "\n",
    "    return K\n",
    "\n",
    "K = find_K(X)\n",
    "print(K.shape)"
   ]
  },
  {
   "cell_type": "code",
   "execution_count": null,
   "metadata": {},
   "outputs": [],
   "source": [
    "# L is label matrix\n",
    "epsilon = 0.1\n",
    "L = np.random.multivariate_normal(mean=np.zeros(d), cov=epsilon*np.eye(d), size=n)\n",
    "L = L / epsilon"
   ]
  },
  {
   "cell_type": "code",
   "execution_count": null,
   "metadata": {},
   "outputs": [],
   "source": [
    "c = math.comb(n, d-1)\n",
    "reg_lambda = 1\n",
    "Z = cp.Variable((c, n))\n",
    "\n",
    "# Define the optimization problem\n",
    "regularization_term = reg_lambda * cp.sum([cp.norm(Z[:, i], 2) for i in range(n)])\n",
    "objective = cp.Minimize(cp.norm(K.T @ Z - L, 'fro')**2 + regularization_term)\n",
    "\n",
    "# Solve the optimization problem\n",
    "problem = cp.Problem(objective)\n",
    "problem.solve()\n",
    "\n",
    "# Extract the optimal value and optimal Z\n",
    "optimal_value = problem.value\n",
    "optimal_Z = Z.value"
   ]
  },
  {
   "cell_type": "code",
   "execution_count": null,
   "metadata": {},
   "outputs": [],
   "source": [
    "# Achieve NN\n",
    "# They fucked up the notation in Eq 34..., \n",
    "# We should look Eq 48 of arxiv.org/pdf/2309.16512 \n",
    "def NN(x: np.ndarray) -> np.ndarray:\n",
    "    for j in range(n):\n"
   ]
  }
 ],
 "metadata": {
  "kernelspec": {
   "display_name": "convex",
   "language": "python",
   "name": "python3"
  },
  "language_info": {
   "codemirror_mode": {
    "name": "ipython",
    "version": 3
   },
   "file_extension": ".py",
   "mimetype": "text/x-python",
   "name": "python",
   "nbconvert_exporter": "python",
   "pygments_lexer": "ipython3",
   "version": "3.12.7"
  }
 },
 "nbformat": 4,
 "nbformat_minor": 2
}
